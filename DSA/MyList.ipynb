{
 "cells": [
  {
   "cell_type": "code",
   "execution_count": 210,
   "metadata": {},
   "outputs": [],
   "source": [
    "import ctypes"
   ]
  },
  {
   "cell_type": "code",
   "execution_count": 245,
   "metadata": {},
   "outputs": [],
   "source": [
    "class MyList:\n",
    "    def  __init__(self):\n",
    "        self.size = 1\n",
    "        self.n=0\n",
    "        #Cretae an array with size 1\n",
    "        self.A = self.__make_array(self.size) \n",
    "    # Create a new array with the given capacity\n",
    "    def __make_array(self,capacity):\n",
    "        return (capacity * ctypes.py_object)()\n",
    "    \n",
    "    # Append an element to the end of the list\n",
    "\n",
    "    def append(self,ele):\n",
    "        if self.n == self.size:\n",
    "            #resize the array\n",
    "            self.__resize(2*self.size)\n",
    "\n",
    "        #append the element\n",
    "        self.A[self.n]=ele\n",
    "        self.n+=1\n",
    "\n",
    "\n",
    "    #resizing array\n",
    "    def __resize(self,new_capacity):\n",
    "        B=self.__make_array(new_capacity)\n",
    "        for i in range(self.n):\n",
    "            B[i]=self.A[i]\n",
    "        self.A=B\n",
    "        self.size=new_capacity\n",
    "\n",
    "        \n",
    "\n",
    "#find length of the list\n",
    "    def __len__(self):\n",
    "        return self.n\n",
    "    \n",
    "#print all items\n",
    "    def __str__(self):\n",
    "        result =\"\"\n",
    "        for i in range(self.n):\n",
    "            result = result + str(self.A[i])+\",\"\n",
    "\n",
    "        return \"[\"+result[:-1]+\"]\"\n",
    "    \n",
    "\n",
    "#get item from list using index\n",
    "    def __getitem__(self,index):\n",
    "        if (index>0 and index<self.n):\n",
    "            return self.A[index]\n",
    "        else:\n",
    "            return \"Index out of range\"\n",
    "        \n",
    "#popping a lis item\n",
    "    def pop(self):\n",
    "        if self.n>0:\n",
    "            self.A[self.n-1]=None\n",
    "            self.n = self.n-1\n",
    "        else:\n",
    "            return \"List is empty\"\n",
    "\n",
    "#delete all items in a list     \n",
    "    def clear(self):\n",
    "        self.A = self.__make_array(1)\n",
    "        self.n = 0\n",
    "        self.size = 1\n",
    "\n",
    "#return index of an element\n",
    "\n",
    "    def find(self,ele):\n",
    "        for i in range(self.n):\n",
    "            if self.A[i] == ele:\n",
    "                return i\n",
    "        \n",
    "        return \"Element not found\"\n",
    "    \n",
    "    def __delitem__(self,pos):\n",
    "        if 0<=pos<self.n:\n",
    "            for i in range(pos,self.n-1):\n",
    "                self.A[i] = self.A[i+1]\n",
    "            self.n = self.n-1\n",
    "        else:\n",
    "            return \"Invalid index\"\n",
    "    \n",
    "    def remove(self,ele):\n",
    "        i=self.find(ele)\n",
    "        if type(i) == int:\n",
    "            #delete\n",
    "            self.__delitem__(i)\n",
    "        else:\n",
    "            return i\n",
    "        \n",
    "\n",
    "\n",
    "    def insert(self,pos,item):\n",
    "        if 0<=pos<self.n:\n",
    "            if self.n== self.size:\n",
    "                self.__resize(self.size*2)\n",
    "            for i in range(self.n,pos,-1):\n",
    "                self.A[i] = self.A[i-1]\n",
    "            self.A[pos] =item\n",
    "            self.n = self.n+1\n",
    "        else:\n",
    "            return \"Invalid index\"\n",
    "\n",
    "\n",
    "\n",
    "        \n",
    "\n",
    "\n",
    "\n",
    "    \n",
    "\n"
   ]
  },
  {
   "cell_type": "code",
   "execution_count": 246,
   "metadata": {},
   "outputs": [
    {
     "data": {
      "text/plain": [
       "<__main__.MyList at 0x26f67d0b7c0>"
      ]
     },
     "execution_count": 246,
     "metadata": {},
     "output_type": "execute_result"
    }
   ],
   "source": [
    "MyList()"
   ]
  },
  {
   "cell_type": "code",
   "execution_count": 247,
   "metadata": {},
   "outputs": [],
   "source": [
    "l=MyList()"
   ]
  },
  {
   "cell_type": "code",
   "execution_count": 248,
   "metadata": {},
   "outputs": [
    {
     "data": {
      "text/plain": [
       "0"
      ]
     },
     "execution_count": 248,
     "metadata": {},
     "output_type": "execute_result"
    }
   ],
   "source": [
    "len(l)"
   ]
  },
  {
   "cell_type": "code",
   "execution_count": 249,
   "metadata": {},
   "outputs": [],
   "source": [
    "l.append(\"Hello\")\n",
    "l.append(\"omkar\")\n",
    "l.append(\"how \")\n",
    "l.append(\"are\")\n",
    "l.append(\"You\")\n",
    "l.append(\"Doin\")"
   ]
  },
  {
   "cell_type": "code",
   "execution_count": 250,
   "metadata": {},
   "outputs": [],
   "source": [
    "l.append(\"World\")"
   ]
  },
  {
   "cell_type": "code",
   "execution_count": 229,
   "metadata": {},
   "outputs": [
    {
     "data": {
      "text/plain": [
       "2"
      ]
     },
     "execution_count": 229,
     "metadata": {},
     "output_type": "execute_result"
    }
   ],
   "source": [
    "len(l)"
   ]
  },
  {
   "cell_type": "code",
   "execution_count": 230,
   "metadata": {},
   "outputs": [
    {
     "data": {
      "text/plain": [
       "'World'"
      ]
     },
     "execution_count": 230,
     "metadata": {},
     "output_type": "execute_result"
    }
   ],
   "source": [
    "l[1]"
   ]
  },
  {
   "cell_type": "code",
   "execution_count": 231,
   "metadata": {},
   "outputs": [],
   "source": [
    "l.append(12)"
   ]
  },
  {
   "cell_type": "code",
   "execution_count": 232,
   "metadata": {},
   "outputs": [
    {
     "data": {
      "text/plain": [
       "12"
      ]
     },
     "execution_count": 232,
     "metadata": {},
     "output_type": "execute_result"
    }
   ],
   "source": [
    "l[2]"
   ]
  },
  {
   "cell_type": "code",
   "execution_count": 164,
   "metadata": {},
   "outputs": [],
   "source": [
    "l.pop()"
   ]
  },
  {
   "cell_type": "code",
   "execution_count": 165,
   "metadata": {},
   "outputs": [
    {
     "data": {
      "text/plain": [
       "<__main__.MyList at 0x26f68e3caf0>"
      ]
     },
     "execution_count": 165,
     "metadata": {},
     "output_type": "execute_result"
    }
   ],
   "source": [
    "l"
   ]
  },
  {
   "cell_type": "code",
   "execution_count": 233,
   "metadata": {},
   "outputs": [
    {
     "name": "stdout",
     "output_type": "stream",
     "text": [
      "[Hello,World,12]\n"
     ]
    }
   ],
   "source": [
    "print(l)"
   ]
  },
  {
   "cell_type": "code",
   "execution_count": 167,
   "metadata": {},
   "outputs": [],
   "source": [
    "l.clear()"
   ]
  },
  {
   "cell_type": "code",
   "execution_count": 168,
   "metadata": {},
   "outputs": [
    {
     "name": "stdout",
     "output_type": "stream",
     "text": [
      "[]\n"
     ]
    }
   ],
   "source": [
    "print(l)"
   ]
  },
  {
   "cell_type": "code",
   "execution_count": 240,
   "metadata": {},
   "outputs": [
    {
     "data": {
      "text/plain": [
       "'Element not found'"
      ]
     },
     "execution_count": 240,
     "metadata": {},
     "output_type": "execute_result"
    }
   ],
   "source": [
    "l.find(12)"
   ]
  },
  {
   "cell_type": "code",
   "execution_count": 241,
   "metadata": {},
   "outputs": [
    {
     "data": {
      "text/plain": [
       "'Invalid index'"
      ]
     },
     "execution_count": 241,
     "metadata": {},
     "output_type": "execute_result"
    }
   ],
   "source": [
    "l.__delitem__(1)"
   ]
  },
  {
   "cell_type": "code",
   "execution_count": 236,
   "metadata": {},
   "outputs": [
    {
     "data": {
      "text/plain": [
       "<__main__.MyList at 0x26f69ac3820>"
      ]
     },
     "execution_count": 236,
     "metadata": {},
     "output_type": "execute_result"
    }
   ],
   "source": [
    "l"
   ]
  },
  {
   "cell_type": "code",
   "execution_count": 239,
   "metadata": {},
   "outputs": [
    {
     "name": "stdout",
     "output_type": "stream",
     "text": [
      "[Hello]\n"
     ]
    }
   ],
   "source": [
    "print(l)"
   ]
  },
  {
   "cell_type": "code",
   "execution_count": 238,
   "metadata": {},
   "outputs": [],
   "source": [
    "l.remove(12)"
   ]
  },
  {
   "cell_type": "code",
   "execution_count": 251,
   "metadata": {},
   "outputs": [],
   "source": [
    "l.insert(0,123)"
   ]
  },
  {
   "cell_type": "code",
   "execution_count": 252,
   "metadata": {},
   "outputs": [
    {
     "name": "stdout",
     "output_type": "stream",
     "text": [
      "[123,Hello,omkar,how ,are,You,Doin,World]\n"
     ]
    }
   ],
   "source": [
    "print(l)"
   ]
  },
  {
   "cell_type": "code",
   "execution_count": null,
   "metadata": {},
   "outputs": [],
   "source": []
  }
 ],
 "metadata": {
  "kernelspec": {
   "display_name": "Python (tf)",
   "language": "python",
   "name": "tf"
  },
  "language_info": {
   "codemirror_mode": {
    "name": "ipython",
    "version": 3
   },
   "file_extension": ".py",
   "mimetype": "text/x-python",
   "name": "python",
   "nbconvert_exporter": "python",
   "pygments_lexer": "ipython3",
   "version": "3.9.20"
  }
 },
 "nbformat": 4,
 "nbformat_minor": 2
}
