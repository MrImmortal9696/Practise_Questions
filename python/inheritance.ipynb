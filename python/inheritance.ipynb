{
 "cells": [
  {
   "cell_type": "code",
   "execution_count": null,
   "metadata": {},
   "outputs": [
    {
     "name": "stdout",
     "output_type": "stream",
     "text": [
      "Apple class constructor\n",
      "This is food class\n",
      "This is apple\n"
     ]
    }
   ],
   "source": [
    "# sibgle inheritance\n",
    "class Food:\n",
    "    def __init__(self):\n",
    "        print(\"This is food class\")\n",
    "\n",
    "    def food(self):\n",
    "        print(\"This is food\")\n",
    "\n",
    "class Apple(Food):\n",
    "    def __init__(self):\n",
    "        print(\"Apple class constructor\")\n",
    "        super().__init__()# calling the constructor of the parent class\n",
    "\n",
    "    def apple(self):\n",
    "        print(\"This is apple\")\n",
    "\n",
    "a=Apple()\n",
    "a.apple()\n"
   ]
  },
  {
   "cell_type": "code",
   "execution_count": 18,
   "metadata": {},
   "outputs": [
    {
     "name": "stdout",
     "output_type": "stream",
     "text": [
      "Apple class constructor\n",
      "This is apple\n",
      "This is fruit\n",
      "This is food\n"
     ]
    }
   ],
   "source": [
    "#multiple inheritance\n",
    "\n",
    "\n",
    "\n",
    "class Food:\n",
    "    def __init__(self):\n",
    "        print(\"This is food class\")\n",
    "\n",
    "    def food(self):\n",
    "        print(\"This is food\")\n",
    "\n",
    "class fruit:\n",
    "    def __init__(self):\n",
    "        print(\"This is fruit class\")\n",
    "\n",
    "    def fruit(self):\n",
    "        print(\"This is fruit\")\n",
    "\n",
    "class Apple(Food,fruit):\n",
    "    def __init__(self):\n",
    "        print(\"Apple class constructor\")\n",
    "    \n",
    "    def apple(self):\n",
    "        print(\"This is apple\")\n",
    "\n",
    "a=Apple()\n",
    "a.apple()\n",
    "a.fruit()\n",
    "a.food()\n"
   ]
  },
  {
   "cell_type": "code",
   "execution_count": 19,
   "metadata": {},
   "outputs": [
    {
     "name": "stdout",
     "output_type": "stream",
     "text": [
      "Apple class constructor\n",
      "This is apple\n",
      "This is fruit\n",
      "This is food\n"
     ]
    }
   ],
   "source": [
    "#Multilevel inheritance\n",
    "\n",
    "class Food:\n",
    "    def __init__(self):\n",
    "        print(\"This is food class\")\n",
    "\n",
    "    def food(self):\n",
    "        print(\"This is food\")\n",
    "\n",
    "class fruit(Food):\n",
    "    def __init__(self):\n",
    "        print(\"This is fruit class\")\n",
    "\n",
    "    def fruit(self):\n",
    "        print(\"This is fruit\")\n",
    "\n",
    "class Apple(fruit):\n",
    "    def __init__(self):\n",
    "        print(\"Apple class constructor\")\n",
    "    \n",
    "    def apple(self):\n",
    "        print(\"This is apple\")\n",
    "\n",
    "a=Apple()\n",
    "a.apple()\n",
    "a.fruit()\n",
    "a.food()\n"
   ]
  },
  {
   "cell_type": "code",
   "execution_count": 21,
   "metadata": {},
   "outputs": [
    {
     "name": "stdout",
     "output_type": "stream",
     "text": [
      "Apple class constructor\n",
      "This is fruit class\n",
      "This is fruit\n",
      "This is food\n",
      "This is apple\n",
      "This is food\n"
     ]
    }
   ],
   "source": [
    "#Hierarchical inheritance\n",
    "\n",
    "class Food:\n",
    "    def __init__(self):\n",
    "        print(\"This is food class\")\n",
    "\n",
    "    def food(self):\n",
    "        print(\"This is food\")\n",
    "\n",
    "class fruit(Food):\n",
    "    def __init__(self):\n",
    "        print(\"This is fruit class\")\n",
    "\n",
    "    def fruit(self):\n",
    "        print(\"This is fruit\")\n",
    "\n",
    "class Apple(Food):\n",
    "    def __init__(self):\n",
    "        print(\"Apple class constructor\")\n",
    "    \n",
    "    def apple(self):\n",
    "        print(\"This is apple\")\n",
    "\n",
    "a=Apple()\n",
    "f=fruit()\n",
    "f.fruit()\n",
    "f.food()\n",
    "a.apple()\n",
    "a.food()\n"
   ]
  },
  {
   "cell_type": "code",
   "execution_count": null,
   "metadata": {},
   "outputs": [],
   "source": [
    "#Hybrid inheritance\n",
    "\n",
    "class Food:\n",
    "    def __init__(self):\n",
    "        print(\"This is food class\")\n",
    "\n",
    "    def food(self):        \n",
    "        print(\"This is food\")\n",
    "\n",
    "class fruit(Food):\n",
    "    def __init__(self):\n",
    "        print(\"This is fruit class\")\n",
    "\n",
    "    def fruit(self):\n",
    "        print(\"This is fruit\")\n",
    "\n",
    "class Apple(fruit):\n",
    "    def __init__(self):\n",
    "        print(\"Apple class constructor\")\n",
    "    \n",
    "    def apple(self):\n",
    "        print(\"This is apple\")\n",
    "\n",
    "class Orange(Food):\n",
    "    def __init__(self):\n",
    "        print(\"Orange class constructor\")\n",
    "        "
   ]
  }
 ],
 "metadata": {
  "kernelspec": {
   "display_name": "Python 3",
   "language": "python",
   "name": "python3"
  },
  "language_info": {
   "codemirror_mode": {
    "name": "ipython",
    "version": 3
   },
   "file_extension": ".py",
   "mimetype": "text/x-python",
   "name": "python",
   "nbconvert_exporter": "python",
   "pygments_lexer": "ipython3",
   "version": "3.10.11"
  }
 },
 "nbformat": 4,
 "nbformat_minor": 2
}
